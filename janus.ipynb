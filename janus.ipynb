{
 "cells": [
  {
   "cell_type": "code",
   "execution_count": 1,
   "id": "2206b26f-5aca-4a09-a8ae-75bc60edc568",
   "metadata": {},
   "outputs": [
    {
     "name": "stderr",
     "output_type": "stream",
     "text": [
      "/usr/local/spark/python/pyspark/sql/context.py:158: FutureWarning: Deprecated in 3.0.0. Use SparkSession.builder.getOrCreate() instead.\n",
      "  warnings.warn(\n"
     ]
    }
   ],
   "source": [
    "import os\n",
    "import pyspark\n",
    "conf = pyspark.SparkConf()\n",
    "\n",
    "# conf.set('spark.ui.proxyBase', '/user/' + os.environ['JUPYTERHUB_USER'] + '/proxy/4041')\n",
    "conf.set('spark.sql.repl.eagerEval.enabled', True) # enabled for debuggig \n",
    "conf.set('spark.driver.memory','4g')\n",
    "sc = pyspark.SparkContext(conf=conf)\n",
    "spark = pyspark.SQLContext.getOrCreate(sc)"
   ]
  },
  {
   "cell_type": "code",
   "execution_count": 3,
   "id": "13200e43-3ae7-4752-9bb7-3fd9a875ee0a",
   "metadata": {},
   "outputs": [],
   "source": [
    "# from pyspark.sql.functions import col, column, sum, dayofweek, udf, count, rank, collect_list, concat_ws, concat, lit, split, struct, trim, explode, lower, regexp_replace\n",
    "# from pyspark.sql.types import IntegerType, DoubleType\n",
    "# from pyspark.sql.window import Window\n",
    "# from pyspark.ml.feature import NGram"
   ]
  },
  {
   "cell_type": "code",
   "execution_count": 8,
   "id": "ca55bc39-2b48-488d-8e0b-feadb03cca9e",
   "metadata": {},
   "outputs": [
    {
     "data": {
      "text/html": [
       "<table border='1'>\n",
       "<tr><th>ARREST_KEY</th><th>ARREST_DATE</th><th>PD_CD</th><th>PD_DESC</th><th>KY_CD</th><th>OFNS_DESC</th><th>LAW_CODE</th><th>LAW_CAT_CD</th><th>ARREST_BORO</th><th>ARREST_PRECINCT</th><th>JURISDICTION_CODE</th><th>AGE_GROUP</th><th>PERP_SEX</th><th>PERP_RACE</th><th>X_COORD_CD</th><th>Y_COORD_CD</th><th>Latitude</th><th>Longitude</th><th>New Georeferenced Column</th></tr>\n",
       "<tr><td>261209118</td><td>01/01/2023</td><td>109</td><td>ASSAULT 2,1,UNCLA...</td><td>106</td><td>FELONY ASSAULT</td><td>PL 1200501</td><td>F</td><td>K</td><td>77</td><td>0</td><td>45-64</td><td>F</td><td>BLACK</td><td>999335</td><td>186085</td><td>40.677426</td><td>-73.945615</td><td>POINT (-73.945615...</td></tr>\n",
       "<tr><td>262984267</td><td>02/03/2023</td><td>515</td><td>CONTROLLED SUBSTA...</td><td>117</td><td>DANGEROUS DRUGS</td><td>PL 2203901</td><td>F</td><td>K</td><td>73</td><td>0</td><td>25-44</td><td>M</td><td>BLACK</td><td>1009318</td><td>178259</td><td>40.655923</td><td>-73.90965</td><td>POINT (-73.90965 ...</td></tr>\n",
       "<tr><td>263664549</td><td>02/15/2023</td><td>105</td><td>STRANGULATION 1ST</td><td>106</td><td>FELONY ASSAULT</td><td>PL 1211200</td><td>F</td><td>K</td><td>62</td><td>0</td><td>25-44</td><td>M</td><td>WHITE</td><td>982272</td><td>158771</td><td>40.602468</td><td>-74.00712</td><td>POINT (-74.00712 ...</td></tr>\n",
       "<tr><td>261345231</td><td>01/04/2023</td><td>105</td><td>STRANGULATION 1ST</td><td>106</td><td>FELONY ASSAULT</td><td>PL 1211200</td><td>F</td><td>M</td><td>32</td><td>0</td><td>25-44</td><td>M</td><td>BLACK</td><td>999899</td><td>238684</td><td>40.821797</td><td>-73.943457</td><td>POINT (-73.943457...</td></tr>\n",
       "<tr><td>263536618</td><td>02/13/2023</td><td>109</td><td>ASSAULT 2,1,UNCLA...</td><td>106</td><td>FELONY ASSAULT</td><td>PL 12005WX</td><td>F</td><td>K</td><td>71</td><td>0</td><td>25-44</td><td>M</td><td>BLACK</td><td>1001437</td><td>183080</td><td>40.669175</td><td>-73.938042</td><td>POINT (-73.938042...</td></tr>\n",
       "</table>\n"
      ],
      "text/plain": [
       "+----------+-----------+-----+--------------------+-----+---------------+----------+----------+-----------+---------------+-----------------+---------+--------+---------+----------+----------+---------+----------+------------------------+\n",
       "|ARREST_KEY|ARREST_DATE|PD_CD|             PD_DESC|KY_CD|      OFNS_DESC|  LAW_CODE|LAW_CAT_CD|ARREST_BORO|ARREST_PRECINCT|JURISDICTION_CODE|AGE_GROUP|PERP_SEX|PERP_RACE|X_COORD_CD|Y_COORD_CD| Latitude| Longitude|New Georeferenced Column|\n",
       "+----------+-----------+-----+--------------------+-----+---------------+----------+----------+-----------+---------------+-----------------+---------+--------+---------+----------+----------+---------+----------+------------------------+\n",
       "| 261209118| 01/01/2023|  109|ASSAULT 2,1,UNCLA...|  106| FELONY ASSAULT|PL 1200501|         F|          K|             77|                0|    45-64|       F|    BLACK|    999335|    186085|40.677426|-73.945615|    POINT (-73.945615...|\n",
       "| 262984267| 02/03/2023|  515|CONTROLLED SUBSTA...|  117|DANGEROUS DRUGS|PL 2203901|         F|          K|             73|                0|    25-44|       M|    BLACK|   1009318|    178259|40.655923| -73.90965|    POINT (-73.90965 ...|\n",
       "| 263664549| 02/15/2023|  105|   STRANGULATION 1ST|  106| FELONY ASSAULT|PL 1211200|         F|          K|             62|                0|    25-44|       M|    WHITE|    982272|    158771|40.602468| -74.00712|    POINT (-74.00712 ...|\n",
       "| 261345231| 01/04/2023|  105|   STRANGULATION 1ST|  106| FELONY ASSAULT|PL 1211200|         F|          M|             32|                0|    25-44|       M|    BLACK|    999899|    238684|40.821797|-73.943457|    POINT (-73.943457...|\n",
       "| 263536618| 02/13/2023|  109|ASSAULT 2,1,UNCLA...|  106| FELONY ASSAULT|PL 12005WX|         F|          K|             71|                0|    25-44|       M|    BLACK|   1001437|    183080|40.669175|-73.938042|    POINT (-73.938042...|\n",
       "+----------+-----------+-----+--------------------+-----+---------------+----------+----------+-----------+---------------+-----------------+---------+--------+---------+----------+----------+---------+----------+------------------------+"
      ]
     },
     "execution_count": 8,
     "metadata": {},
     "output_type": "execute_result"
    }
   ],
   "source": [
    "# read\n",
    "arrest_data_ytd_df = spark.read.option(\"header\", \"true\").csv(\"data/NYPD_Arrest_Data__Year_to_Date__20231212.csv\")\n",
    "arrest_data_ytd_df.limit(5)"
   ]
  },
  {
   "cell_type": "code",
   "execution_count": 7,
   "id": "35b06bb9-ad1f-4069-9637-5c8e718a9e3d",
   "metadata": {},
   "outputs": [
    {
     "data": {
      "text/html": [
       "<table border='1'>\n",
       "<tr><th>ARREST_KEY</th><th>ARREST_DATE</th><th>PD_CD</th><th>PD_DESC</th><th>KY_CD</th><th>OFNS_DESC</th><th>LAW_CODE</th><th>LAW_CAT_CD</th><th>ARREST_BORO</th><th>ARREST_PRECINCT</th><th>JURISDICTION_CODE</th><th>AGE_GROUP</th><th>PERP_SEX</th><th>PERP_RACE</th><th>X_COORD_CD</th><th>Y_COORD_CD</th><th>Latitude</th><th>Longitude</th><th>Lon_Lat</th></tr>\n",
       "<tr><td>236791704</td><td>11/22/2021</td><td>581</td><td>NULL</td><td>NULL</td><td>NULL</td><td>PL 2225001</td><td>M</td><td>M</td><td>28</td><td>0</td><td>45-64</td><td>M</td><td>BLACK</td><td>997427</td><td>230378</td><td>40.799008797000056</td><td>-73.95240854099995</td><td>POINT (-73.952408...</td></tr>\n",
       "<tr><td>237354740</td><td>12/04/2021</td><td>153</td><td>RAPE 3</td><td>104</td><td>RAPE</td><td>PL 1302502</td><td>F</td><td>B</td><td>41</td><td>0</td><td>25-44</td><td>M</td><td>WHITE HISPANIC</td><td>1013232</td><td>236725</td><td>40.816391847000034</td><td>-73.89529641399997</td><td>POINT (-73.895296...</td></tr>\n",
       "<tr><td>236081433</td><td>11/09/2021</td><td>681</td><td>CHILD, ENDANGERIN...</td><td>233</td><td>SEX CRIMES</td><td>PL 2601001</td><td>M</td><td>Q</td><td>113</td><td>0</td><td>25-44</td><td>M</td><td>BLACK</td><td>1046367</td><td>186986</td><td>40.67970040800003</td><td>-73.77604736799998</td><td>POINT (-73.776047...</td></tr>\n",
       "<tr><td>32311380</td><td>06/18/2007</td><td>511</td><td>CONTROLLED SUBSTA...</td><td>235</td><td>DANGEROUS DRUGS</td><td>PL 2200300</td><td>M</td><td>Q</td><td>27</td><td>1</td><td>18-24</td><td>M</td><td>BLACK</td><td>NULL</td><td>NULL</td><td>NULL</td><td>NULL</td><td>NULL</td></tr>\n",
       "<tr><td>192799737</td><td>01/26/2019</td><td>177</td><td>SEXUAL ABUSE</td><td>116</td><td>SEX CRIMES</td><td>PL 1306503</td><td>F</td><td>M</td><td>25</td><td>0</td><td>45-64</td><td>M</td><td>BLACK</td><td>1000555</td><td>230994</td><td>40.800694331000045</td><td>-73.941109285999971</td><td>POINT (-73.941109...</td></tr>\n",
       "</table>\n"
      ],
      "text/plain": [
       "+----------+-----------+-----+--------------------+-----+---------------+----------+----------+-----------+---------------+-----------------+---------+--------+--------------+----------+----------+------------------+-------------------+--------------------+\n",
       "|ARREST_KEY|ARREST_DATE|PD_CD|             PD_DESC|KY_CD|      OFNS_DESC|  LAW_CODE|LAW_CAT_CD|ARREST_BORO|ARREST_PRECINCT|JURISDICTION_CODE|AGE_GROUP|PERP_SEX|     PERP_RACE|X_COORD_CD|Y_COORD_CD|          Latitude|          Longitude|             Lon_Lat|\n",
       "+----------+-----------+-----+--------------------+-----+---------------+----------+----------+-----------+---------------+-----------------+---------+--------+--------------+----------+----------+------------------+-------------------+--------------------+\n",
       "| 236791704| 11/22/2021|  581|                NULL| NULL|           NULL|PL 2225001|         M|          M|             28|                0|    45-64|       M|         BLACK|    997427|    230378|40.799008797000056| -73.95240854099995|POINT (-73.952408...|\n",
       "| 237354740| 12/04/2021|  153|              RAPE 3|  104|           RAPE|PL 1302502|         F|          B|             41|                0|    25-44|       M|WHITE HISPANIC|   1013232|    236725|40.816391847000034| -73.89529641399997|POINT (-73.895296...|\n",
       "| 236081433| 11/09/2021|  681|CHILD, ENDANGERIN...|  233|     SEX CRIMES|PL 2601001|         M|          Q|            113|                0|    25-44|       M|         BLACK|   1046367|    186986| 40.67970040800003| -73.77604736799998|POINT (-73.776047...|\n",
       "|  32311380| 06/18/2007|  511|CONTROLLED SUBSTA...|  235|DANGEROUS DRUGS|PL 2200300|         M|          Q|             27|                1|    18-24|       M|         BLACK|      NULL|      NULL|              NULL|               NULL|                NULL|\n",
       "| 192799737| 01/26/2019|  177|        SEXUAL ABUSE|  116|     SEX CRIMES|PL 1306503|         F|          M|             25|                0|    45-64|       M|         BLACK|   1000555|    230994|40.800694331000045|-73.941109285999971|POINT (-73.941109...|\n",
       "+----------+-----------+-----+--------------------+-----+---------------+----------+----------+-----------+---------------+-----------------+---------+--------+--------------+----------+----------+------------------+-------------------+--------------------+"
      ]
     },
     "execution_count": 7,
     "metadata": {},
     "output_type": "execute_result"
    }
   ],
   "source": [
    "arrest_data_historic_df = spark.read.option(\"header\", \"true\").csv(\"data/NYPD_Arrests_Data__Historic__20231212.csv\")\n",
    "arrest_data_historic_df.limit(5)"
   ]
  }
 ],
 "metadata": {
  "kernelspec": {
   "display_name": "Python 3 (ipykernel)",
   "language": "python",
   "name": "python3"
  },
  "language_info": {
   "codemirror_mode": {
    "name": "ipython",
    "version": 3
   },
   "file_extension": ".py",
   "mimetype": "text/x-python",
   "name": "python",
   "nbconvert_exporter": "python",
   "pygments_lexer": "ipython3",
   "version": "3.11.6"
  }
 },
 "nbformat": 4,
 "nbformat_minor": 5
}
