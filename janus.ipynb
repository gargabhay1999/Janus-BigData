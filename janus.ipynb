{
 "cells": [
  {
   "cell_type": "code",
   "execution_count": 1,
   "id": "2206b26f-5aca-4a09-a8ae-75bc60edc568",
   "metadata": {},
   "outputs": [
    {
     "name": "stderr",
     "output_type": "stream",
     "text": [
      "23/12/12 17:08:18 WARN Utils: Your hostname, Pragnavis-MacBook-Pro.local resolves to a loopback address: 127.0.0.1; using 10.0.0.53 instead (on interface en0)\n",
      "23/12/12 17:08:18 WARN Utils: Set SPARK_LOCAL_IP if you need to bind to another address\n",
      "Setting default log level to \"WARN\".\n",
      "To adjust logging level use sc.setLogLevel(newLevel). For SparkR, use setLogLevel(newLevel).\n",
      "23/12/12 17:08:18 WARN NativeCodeLoader: Unable to load native-hadoop library for your platform... using builtin-java classes where applicable\n",
      "/Users/pragnavi/anaconda3/lib/python3.10/site-packages/pyspark/sql/context.py:158: FutureWarning: Deprecated in 3.0.0. Use SparkSession.builder.getOrCreate() instead.\n",
      "  warnings.warn(\n"
     ]
    }
   ],
   "source": [
    "import os\n",
    "import pyspark\n",
    "conf = pyspark.SparkConf()\n",
    "\n",
    "# conf.set('spark.ui.proxyBase', '/user/' + os.environ['JUPYTERHUB_USER'] + '/proxy/4041')\n",
    "conf.set('spark.sql.repl.eagerEval.enabled', True) # enabled for debuggig \n",
    "conf.set('spark.driver.memory','4g')\n",
    "sc = pyspark.SparkContext(conf=conf)\n",
    "spark = pyspark.SQLContext.getOrCreate(sc)"
   ]
  },
  {
   "cell_type": "code",
   "execution_count": 31,
   "id": "13200e43-3ae7-4752-9bb7-3fd9a875ee0a",
   "metadata": {},
   "outputs": [],
   "source": [
    "#from pyspark.sql.functions import col , column, sum, dayofweek, udf, count, rank, collect_list, concat_ws, concat, lit, split, struct, trim, explode, lower, regexp_replace\n",
    "# from pyspark.sql.types import IntegerType, DoubleType\n",
    "# from pyspark.sql.window import Window\n",
    "# from pyspark.ml.feature import NGram\n",
    "\n",
    "from pyspark.sql.functions import col, to_date\n",
    "from pyspark.sql.types import DateType, StructType, StructField, DoubleType, StringType\n",
    "from itertools import product\n",
    "from pyspark.sql import functions as F"
   ]
  },
  {
   "cell_type": "code",
   "execution_count": null,
   "id": "7e371cd2-af1d-45ce-879a-1fed5df7cf1f",
   "metadata": {},
   "outputs": [],
   "source": [
    "#ARREST_DATE, ARREST_BORO, AGE_GROUP, PERP_SEX, PERP_RACE, Latitude, Longitude"
   ]
  },
  {
   "cell_type": "code",
   "execution_count": 18,
   "id": "bbe12750",
   "metadata": {},
   "outputs": [
    {
     "name": "stderr",
     "output_type": "stream",
     "text": [
      "[Stage 18:===================================================>     (9 + 1) / 10]\r"
     ]
    },
    {
     "name": "stdout",
     "output_type": "stream",
     "text": [
      "root\n",
      " |-- ARREST_KEY: string (nullable = true)\n",
      " |-- ARREST_DATE: string (nullable = true)\n",
      " |-- PD_CD: string (nullable = true)\n",
      " |-- PD_DESC: string (nullable = true)\n",
      " |-- KY_CD: string (nullable = true)\n",
      " |-- OFNS_DESC: string (nullable = true)\n",
      " |-- LAW_CODE: string (nullable = true)\n",
      " |-- LAW_CAT_CD: string (nullable = true)\n",
      " |-- ARREST_BORO: string (nullable = true)\n",
      " |-- ARREST_PRECINCT: string (nullable = true)\n",
      " |-- JURISDICTION_CODE: string (nullable = true)\n",
      " |-- AGE_GROUP: string (nullable = true)\n",
      " |-- PERP_SEX: string (nullable = true)\n",
      " |-- PERP_RACE: string (nullable = true)\n",
      " |-- X_COORD_CD: string (nullable = true)\n",
      " |-- Y_COORD_CD: string (nullable = true)\n",
      " |-- Latitude: string (nullable = true)\n",
      " |-- Longitude: string (nullable = true)\n",
      " |-- Lon_Lat: string (nullable = true)\n",
      "\n"
     ]
    },
    {
     "name": "stderr",
     "output_type": "stream",
     "text": [
      "\r",
      "                                                                                \r"
     ]
    }
   ],
   "source": [
    "arrest_data_df = spark\\\n",
    ".read.option(\"header\",True)\\\n",
    ".option(\"inferSchema\",True)\\\n",
    ".csv(\"data\")\n",
    "\n",
    "arrest_data_df.printSchema()"
   ]
  },
  {
   "cell_type": "code",
   "execution_count": 19,
   "id": "072d908e-dfd3-4b10-8780-608b7bd4f06d",
   "metadata": {
    "scrolled": true
   },
   "outputs": [],
   "source": [
    "arrest_data_df = arrest_data_df.withColumn(\"ARREST_DATE\", to_date(arrest_data_df[\"ARREST_DATE\"], \"MM/dd/yyyy\").cast(DateType()))\n",
    "arrest_data_df = arrest_data_df \\\n",
    "    .select(col(\"ARREST_DATE\"), col(\"ARREST_BORO\"), col(\"AGE_GROUP\"), col(\"PERP_SEX\"), col(\"PERP_RACE\"), col(\"Latitude\"), col(\"Longitude\")) "
   ]
  },
  {
   "cell_type": "code",
   "execution_count": 20,
   "id": "73ddaff8",
   "metadata": {
    "scrolled": true
   },
   "outputs": [
    {
     "name": "stderr",
     "output_type": "stream",
     "text": [
      "                                                                                \r"
     ]
    },
    {
     "data": {
      "text/html": [
       "<table border='1'>\n",
       "<tr><th>ARREST_DATE</th><th>ARREST_BORO</th><th>AGE_GROUP</th><th>PERP_SEX</th><th>PERP_RACE</th><th>Latitude</th><th>Longitude</th></tr>\n",
       "<tr><td>2023-09-30</td><td>M</td><td>25-44</td><td>M</td><td>WHITE</td><td>40.7623963379051</td><td>-73.9786009241232</td></tr>\n",
       "<tr><td>2023-09-30</td><td>K</td><td>25-44</td><td>M</td><td>WHITE HISPANIC</td><td>40.641462</td><td>-73.980247</td></tr>\n",
       "<tr><td>2023-09-30</td><td>M</td><td>25-44</td><td>M</td><td>BLACK</td><td>40.768890992016146</td><td>-73.98209349413949</td></tr>\n",
       "<tr><td>2023-09-30</td><td>Q</td><td>45-64</td><td>M</td><td>WHITE HISPANIC</td><td>40.7927597502013</td><td>-73.84842984775335</td></tr>\n",
       "<tr><td>2023-09-30</td><td>Q</td><td>45-64</td><td>F</td><td>BLACK</td><td>40.6799807384666</td><td>-73.7762339071953</td></tr>\n",
       "<tr><td>2023-09-30</td><td>K</td><td>45-64</td><td>M</td><td>BLACK</td><td>40.57604135964683</td><td>-73.99007546483202</td></tr>\n",
       "<tr><td>2023-09-30</td><td>K</td><td>45-64</td><td>M</td><td>BLACK</td><td>40.5993145044713</td><td>-73.97290957437446</td></tr>\n",
       "<tr><td>2023-09-30</td><td>B</td><td>25-44</td><td>M</td><td>BLACK</td><td>40.853578</td><td>-73.900591</td></tr>\n",
       "<tr><td>2023-09-30</td><td>Q</td><td>45-64</td><td>M</td><td>WHITE</td><td>40.79152936748136</td><td>-73.84175152958223</td></tr>\n",
       "<tr><td>2023-09-30</td><td>M</td><td>18-24</td><td>M</td><td>BLACK HISPANIC</td><td>40.758679</td><td>-73.99516</td></tr>\n",
       "<tr><td>2023-09-30</td><td>Q</td><td>25-44</td><td>M</td><td>WHITE HISPANIC</td><td>40.69843</td><td>-73.831128</td></tr>\n",
       "<tr><td>2023-09-30</td><td>B</td><td>18-24</td><td>M</td><td>WHITE HISPANIC</td><td>40.848936</td><td>-73.90452</td></tr>\n",
       "<tr><td>2023-09-30</td><td>Q</td><td>25-44</td><td>M</td><td>ASIAN / PACIFIC I...</td><td>40.682398279333</td><td>-73.8400721577516</td></tr>\n",
       "<tr><td>2023-09-30</td><td>B</td><td>25-44</td><td>M</td><td>BLACK</td><td>40.848304</td><td>-73.916893</td></tr>\n",
       "<tr><td>2023-09-30</td><td>K</td><td>25-44</td><td>M</td><td>BLACK</td><td>40.670959</td><td>-73.937875</td></tr>\n",
       "<tr><td>2023-09-30</td><td>K</td><td>25-44</td><td>M</td><td>WHITE HISPANIC</td><td>40.68054127305175</td><td>-73.99465319226508</td></tr>\n",
       "<tr><td>2023-09-30</td><td>Q</td><td>25-44</td><td>M</td><td>BLACK</td><td>40.608389530775426</td><td>-73.76719496483982</td></tr>\n",
       "<tr><td>2023-09-30</td><td>B</td><td>&lt;18</td><td>M</td><td>BLACK</td><td>40.817980811922155</td><td>-73.9189168932163</td></tr>\n",
       "<tr><td>2023-09-30</td><td>Q</td><td>25-44</td><td>M</td><td>BLACK</td><td>40.70058232906593</td><td>-73.80774181591707</td></tr>\n",
       "<tr><td>2023-09-30</td><td>M</td><td>25-44</td><td>M</td><td>WHITE HISPANIC</td><td>40.784499</td><td>-73.97548</td></tr>\n",
       "</table>\n",
       "only showing top 20 rows\n"
      ],
      "text/plain": [
       "+-----------+-----------+---------+--------+--------------------+------------------+------------------+\n",
       "|ARREST_DATE|ARREST_BORO|AGE_GROUP|PERP_SEX|           PERP_RACE|          Latitude|         Longitude|\n",
       "+-----------+-----------+---------+--------+--------------------+------------------+------------------+\n",
       "| 2023-09-30|          M|    25-44|       M|               WHITE|  40.7623963379051| -73.9786009241232|\n",
       "| 2023-09-30|          K|    25-44|       M|      WHITE HISPANIC|         40.641462|        -73.980247|\n",
       "| 2023-09-30|          M|    25-44|       M|               BLACK|40.768890992016146|-73.98209349413949|\n",
       "| 2023-09-30|          Q|    45-64|       M|      WHITE HISPANIC|  40.7927597502013|-73.84842984775335|\n",
       "| 2023-09-30|          Q|    45-64|       F|               BLACK|  40.6799807384666| -73.7762339071953|\n",
       "| 2023-09-30|          K|    45-64|       M|               BLACK| 40.57604135964683|-73.99007546483202|\n",
       "| 2023-09-30|          K|    45-64|       M|               BLACK|  40.5993145044713|-73.97290957437446|\n",
       "| 2023-09-30|          B|    25-44|       M|               BLACK|         40.853578|        -73.900591|\n",
       "| 2023-09-30|          Q|    45-64|       M|               WHITE| 40.79152936748136|-73.84175152958223|\n",
       "| 2023-09-30|          M|    18-24|       M|      BLACK HISPANIC|         40.758679|         -73.99516|\n",
       "| 2023-09-30|          Q|    25-44|       M|      WHITE HISPANIC|          40.69843|        -73.831128|\n",
       "| 2023-09-30|          B|    18-24|       M|      WHITE HISPANIC|         40.848936|         -73.90452|\n",
       "| 2023-09-30|          Q|    25-44|       M|ASIAN / PACIFIC I...|   40.682398279333| -73.8400721577516|\n",
       "| 2023-09-30|          B|    25-44|       M|               BLACK|         40.848304|        -73.916893|\n",
       "| 2023-09-30|          K|    25-44|       M|               BLACK|         40.670959|        -73.937875|\n",
       "| 2023-09-30|          K|    25-44|       M|      WHITE HISPANIC| 40.68054127305175|-73.99465319226508|\n",
       "| 2023-09-30|          Q|    25-44|       M|               BLACK|40.608389530775426|-73.76719496483982|\n",
       "| 2023-09-30|          B|      <18|       M|               BLACK|40.817980811922155| -73.9189168932163|\n",
       "| 2023-09-30|          Q|    25-44|       M|               BLACK| 40.70058232906593|-73.80774181591707|\n",
       "| 2023-09-30|          M|    25-44|       M|      WHITE HISPANIC|         40.784499|         -73.97548|\n",
       "+-----------+-----------+---------+--------+--------------------+------------------+------------------+\n",
       "only showing top 20 rows"
      ]
     },
     "execution_count": 20,
     "metadata": {},
     "output_type": "execute_result"
    }
   ],
   "source": [
    "arrest_data_df.orderBy(col(\"ARREST_DATE\").desc())"
   ]
  },
  {
   "cell_type": "code",
   "execution_count": 42,
   "id": "fed20af7",
   "metadata": {
    "scrolled": true
   },
   "outputs": [
    {
     "data": {
      "text/html": [
       "<table border='1'>\n",
       "<tr><th>x1-coordinate</th><th>y1-coordinate</th><th>x2-coordinate</th><th>y2-coordinate</th><th>zone-id</th></tr>\n",
       "<tr><td>-74.05</td><td>40.7</td><td>-74.05</td><td>40.7005</td><td>-74.05_40.7</td></tr>\n",
       "<tr><td>-74.05</td><td>40.7005</td><td>-74.05</td><td>40.701</td><td>-74.05_40.7005</td></tr>\n",
       "<tr><td>-74.05</td><td>40.701</td><td>-74.05</td><td>40.7015</td><td>-74.05_40.701</td></tr>\n",
       "<tr><td>-74.05</td><td>40.7015</td><td>-74.05</td><td>40.702</td><td>-74.05_40.7015</td></tr>\n",
       "<tr><td>-74.05</td><td>40.702</td><td>-74.05</td><td>40.7025</td><td>-74.05_40.702</td></tr>\n",
       "<tr><td>-74.05</td><td>40.7025</td><td>-74.05</td><td>40.703</td><td>-74.05_40.7025</td></tr>\n",
       "<tr><td>-74.05</td><td>40.703</td><td>-74.05</td><td>40.7035</td><td>-74.05_40.703</td></tr>\n",
       "<tr><td>-74.05</td><td>40.7035</td><td>-74.05</td><td>40.704</td><td>-74.05_40.7035</td></tr>\n",
       "<tr><td>-74.05</td><td>40.704</td><td>-74.05</td><td>40.7045</td><td>-74.05_40.704</td></tr>\n",
       "<tr><td>-74.05</td><td>40.7045</td><td>-74.05</td><td>40.705</td><td>-74.05_40.7045</td></tr>\n",
       "<tr><td>-74.05</td><td>40.705</td><td>-74.05</td><td>40.7055</td><td>-74.05_40.705</td></tr>\n",
       "<tr><td>-74.05</td><td>40.7055</td><td>-74.05</td><td>40.706</td><td>-74.05_40.7055</td></tr>\n",
       "<tr><td>-74.05</td><td>40.706</td><td>-74.05</td><td>40.7065</td><td>-74.05_40.706</td></tr>\n",
       "<tr><td>-74.05</td><td>40.7065</td><td>-74.05</td><td>40.707</td><td>-74.05_40.7065</td></tr>\n",
       "<tr><td>-74.05</td><td>40.707</td><td>-74.05</td><td>40.7075</td><td>-74.05_40.707</td></tr>\n",
       "<tr><td>-74.05</td><td>40.7075</td><td>-74.05</td><td>40.708</td><td>-74.05_40.7075</td></tr>\n",
       "<tr><td>-74.05</td><td>40.708</td><td>-74.05</td><td>40.7085</td><td>-74.05_40.708</td></tr>\n",
       "<tr><td>-74.05</td><td>40.7085</td><td>-74.05</td><td>40.709</td><td>-74.05_40.7085</td></tr>\n",
       "<tr><td>-74.05</td><td>40.709</td><td>-74.05</td><td>40.7095</td><td>-74.05_40.709</td></tr>\n",
       "<tr><td>-74.05</td><td>40.7095</td><td>-74.05</td><td>40.71</td><td>-74.05_40.7095</td></tr>\n",
       "</table>\n",
       "only showing top 20 rows\n"
      ],
      "text/plain": [
       "+-------------+-------------+-------------+-------------+--------------+\n",
       "|x1-coordinate|y1-coordinate|x2-coordinate|y2-coordinate|       zone-id|\n",
       "+-------------+-------------+-------------+-------------+--------------+\n",
       "|       -74.05|         40.7|       -74.05|      40.7005|   -74.05_40.7|\n",
       "|       -74.05|      40.7005|       -74.05|       40.701|-74.05_40.7005|\n",
       "|       -74.05|       40.701|       -74.05|      40.7015| -74.05_40.701|\n",
       "|       -74.05|      40.7015|       -74.05|       40.702|-74.05_40.7015|\n",
       "|       -74.05|       40.702|       -74.05|      40.7025| -74.05_40.702|\n",
       "|       -74.05|      40.7025|       -74.05|       40.703|-74.05_40.7025|\n",
       "|       -74.05|       40.703|       -74.05|      40.7035| -74.05_40.703|\n",
       "|       -74.05|      40.7035|       -74.05|       40.704|-74.05_40.7035|\n",
       "|       -74.05|       40.704|       -74.05|      40.7045| -74.05_40.704|\n",
       "|       -74.05|      40.7045|       -74.05|       40.705|-74.05_40.7045|\n",
       "|       -74.05|       40.705|       -74.05|      40.7055| -74.05_40.705|\n",
       "|       -74.05|      40.7055|       -74.05|       40.706|-74.05_40.7055|\n",
       "|       -74.05|       40.706|       -74.05|      40.7065| -74.05_40.706|\n",
       "|       -74.05|      40.7065|       -74.05|       40.707|-74.05_40.7065|\n",
       "|       -74.05|       40.707|       -74.05|      40.7075| -74.05_40.707|\n",
       "|       -74.05|      40.7075|       -74.05|       40.708|-74.05_40.7075|\n",
       "|       -74.05|       40.708|       -74.05|      40.7085| -74.05_40.708|\n",
       "|       -74.05|      40.7085|       -74.05|       40.709|-74.05_40.7085|\n",
       "|       -74.05|       40.709|       -74.05|      40.7095| -74.05_40.709|\n",
       "|       -74.05|      40.7095|       -74.05|        40.71|-74.05_40.7095|\n",
       "+-------------+-------------+-------------+-------------+--------------+\n",
       "only showing top 20 rows"
      ]
     },
     "execution_count": 42,
     "metadata": {},
     "output_type": "execute_result"
    }
   ],
   "source": [
    "#Zone Division\n",
    "\n",
    "# Define the range of coordinates for New York City\n",
    "min_latitude, max_latitude = 40.7, 40.901\n",
    "min_longitude, max_longitude = -74.05, -73.899\n",
    "\n",
    "# Define the grid step (1 mile difference)\n",
    "step = 0.0005 # Approximately 1 mile in degrees\n",
    "\n",
    "# Generate latitude and longitude values using Python range function\n",
    "latitude_values = [round(lat, 6) for lat in\n",
    "                   range(int(min_latitude * 1000000), int(max_latitude * 1000000), int(step * 1000000))]\n",
    "latitude_values = [lat / 1000000 for lat in latitude_values]\n",
    "\n",
    "longitude_values = [round(lon, 6) for lon in\n",
    "                    range(int(min_longitude * 1000000), int(max_longitude * 1000000), int(step * 1000000))]\n",
    "longitude_values = [lon / 1000000 for lon in longitude_values]\n",
    "\n",
    "# Create a list of combinations of longitude and latitude values\n",
    "combinations = list(product(longitude_values, latitude_values))\n",
    "\n",
    "# Create a schema for the grid DataFrame\n",
    "schema = StructType([\n",
    "    StructField(\"x1-coordinate\", DoubleType(), True),\n",
    "    StructField(\"y1-coordinate\", DoubleType(), True),\n",
    "    StructField(\"x2-coordinate\", DoubleType(), True),\n",
    "    StructField(\"y2-coordinate\", DoubleType(), True),\n",
    "    StructField(\"zone-id\", StringType(), True)\n",
    "])\n",
    "\n",
    "# Create a list of structured data tuples for the DataFrame\n",
    "grid_data = [(x1, y1, x2, y2, f'{x1}_{y1}') for (x1, y1), (x2, y2) in zip(combinations[:-1], combinations[1:])]\n",
    "\n",
    "# Create a DataFrame from the data and schema\n",
    "grid_df = spark.createDataFrame(grid_data, schema=schema)\n",
    "\n",
    "# Display the grid DataFrame\n",
    "grid_df"
   ]
  }
 ],
 "metadata": {
  "kernelspec": {
   "display_name": "Python 3 (ipykernel)",
   "language": "python",
   "name": "python3"
  },
  "language_info": {
   "codemirror_mode": {
    "name": "ipython",
    "version": 3
   },
   "file_extension": ".py",
   "mimetype": "text/x-python",
   "name": "python",
   "nbconvert_exporter": "python",
   "pygments_lexer": "ipython3",
   "version": "3.10.9"
  }
 },
 "nbformat": 4,
 "nbformat_minor": 5
}
